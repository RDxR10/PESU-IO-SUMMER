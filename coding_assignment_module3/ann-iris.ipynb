{
 "cells": [
  {
   "cell_type": "code",
   "execution_count": 2,
   "metadata": {},
   "outputs": [],
   "source": [
    "#to ignore compat.v1 for tensorflow\n",
    "import pandas as pd\n",
    "import numpy as np\n",
    "import tensorflow as tf\n",
    "seed = 1234\n",
    "np.random.seed(seed)\n",
    "tf.set_random_seed(seed)"
   ]
  },
  {
   "cell_type": "code",
   "execution_count": 3,
   "metadata": {},
   "outputs": [],
   "source": [
    "dataset = pd.read_csv('Iris_Dataset.csv') #dat format is also available\n",
    "dataset = pd.get_dummies(dataset, columns=['Species'])\n",
    "values = list(dataset.columns.values)"
   ]
  },
  {
   "cell_type": "code",
   "execution_count": 4,
   "metadata": {},
   "outputs": [
    {
     "data": {
      "text/plain": [
       "['Id',\n",
       " 'SepalLengthCm',\n",
       " 'SepalWidthCm',\n",
       " 'PetalLengthCm',\n",
       " 'PetalWidthCm',\n",
       " 'Species_Iris-setosa',\n",
       " 'Species_Iris-versicolor',\n",
       " 'Species_Iris-virginica']"
      ]
     },
     "execution_count": 4,
     "metadata": {},
     "output_type": "execute_result"
    }
   ],
   "source": [
    "values"
   ]
  },
  {
   "cell_type": "code",
   "execution_count": 8,
   "metadata": {},
   "outputs": [],
   "source": [
    "y = dataset[values[-3:]]\n",
    "y = np.array(y, dtype='float32')"
   ]
  },
  {
   "cell_type": "code",
   "execution_count": 11,
   "metadata": {},
   "outputs": [],
   "source": [
    "X = dataset[values[1:-3]]\n",
    "X = np.array(X, dtype='float32')"
   ]
  },
  {
   "cell_type": "code",
   "execution_count": 12,
   "metadata": {},
   "outputs": [],
   "source": [
    "indices = np.random.choice(len(X), len(X), replace=False)"
   ]
  },
  {
   "cell_type": "code",
   "execution_count": 13,
   "metadata": {},
   "outputs": [
    {
     "data": {
      "text/plain": [
       "array([ 91,  63, 103,   6,  59,  29,  27,  35,  99, 122,  82,  42, 117,\n",
       "        61,  43,  79, 100,  25, 108,  94,  74,  54,  51,  73, 109,  48,\n",
       "       123,  92, 102,  11,  98, 126,  40, 133,  77,  24,   8,  20,  22,\n",
       "        93,  36,  68,  32, 141, 125,   9, 114, 145, 135, 140,   1, 147,\n",
       "       105,  97,  57,  64,  66,  52,  58,  17,  39, 130, 113, 110,  21,\n",
       "        33,   0, 146,  62, 134, 144,  55,   4, 111,  10, 131,  15,  78,\n",
       "        88,   5,  67,   7, 148, 132, 138,  85,  18,  49, 149,  83,  90,\n",
       "        44,  86, 104,  70,  56,  72,  41,  16,  45,  84,  89,  31, 101,\n",
       "        95, 137, 142,  96,  13,  87, 119,  28,  46, 139, 106,  60,  71,\n",
       "       121,  14,  81, 107, 115, 129,  65,  12,  19,   2,   3, 136,  75,\n",
       "       128,  34,  37,  76,  50, 127,  80,  69, 112, 120, 118,  26, 124,\n",
       "        30,  23, 143, 116,  53,  38,  47])"
      ]
     },
     "execution_count": 13,
     "metadata": {},
     "output_type": "execute_result"
    }
   ],
   "source": [
    "indices"
   ]
  },
  {
   "cell_type": "code",
   "execution_count": 16,
   "metadata": {},
   "outputs": [],
   "source": [
    "X_values = X[indices]\n",
    "y_values = y[indices]"
   ]
  },
  {
   "cell_type": "code",
   "execution_count": 17,
   "metadata": {},
   "outputs": [
    {
     "data": {
      "text/plain": [
       "array([[6.1, 3. , 4.6, 1.4],\n",
       "       [6.1, 2.9, 4.7, 1.4],\n",
       "       [6.3, 2.9, 5.6, 1.8],\n",
       "       [4.6, 3.4, 1.4, 0.3],\n",
       "       [5.2, 2.7, 3.9, 1.4],\n",
       "       [4.7, 3.2, 1.6, 0.2],\n",
       "       [5.2, 3.5, 1.5, 0.2],\n",
       "       [5. , 3.2, 1.2, 0.2],\n",
       "       [5.7, 2.8, 4.1, 1.3],\n",
       "       [7.7, 2.8, 6.7, 2. ],\n",
       "       [5.8, 2.7, 3.9, 1.2],\n",
       "       [4.4, 3.2, 1.3, 0.2],\n",
       "       [7.7, 3.8, 6.7, 2.2],\n",
       "       [5.9, 3. , 4.2, 1.5],\n",
       "       [5. , 3.5, 1.6, 0.6],\n",
       "       [5.7, 2.6, 3.5, 1. ],\n",
       "       [6.3, 3.3, 6. , 2.5],\n",
       "       [5. , 3. , 1.6, 0.2],\n",
       "       [6.7, 2.5, 5.8, 1.8],\n",
       "       [5.6, 2.7, 4.2, 1.3],\n",
       "       [6.4, 2.9, 4.3, 1.3],\n",
       "       [6.5, 2.8, 4.6, 1.5],\n",
       "       [6.4, 3.2, 4.5, 1.5],\n",
       "       [6.1, 2.8, 4.7, 1.2],\n",
       "       [7.2, 3.6, 6.1, 2.5],\n",
       "       [5.3, 3.7, 1.5, 0.2],\n",
       "       [6.3, 2.7, 4.9, 1.8],\n",
       "       [5.8, 2.6, 4. , 1.2],\n",
       "       [7.1, 3. , 5.9, 2.1],\n",
       "       [4.8, 3.4, 1.6, 0.2],\n",
       "       [5.1, 2.5, 3. , 1.1],\n",
       "       [6.2, 2.8, 4.8, 1.8],\n",
       "       [5. , 3.5, 1.3, 0.3],\n",
       "       [6.3, 2.8, 5.1, 1.5],\n",
       "       [6.7, 3. , 5. , 1.7],\n",
       "       [4.8, 3.4, 1.9, 0.2],\n",
       "       [4.4, 2.9, 1.4, 0.2],\n",
       "       [5.4, 3.4, 1.7, 0.2],\n",
       "       [4.6, 3.6, 1. , 0.2],\n",
       "       [5. , 2.3, 3.3, 1. ],\n",
       "       [5.5, 3.5, 1.3, 0.2],\n",
       "       [6.2, 2.2, 4.5, 1.5],\n",
       "       [5.2, 4.1, 1.5, 0.1],\n",
       "       [6.9, 3.1, 5.1, 2.3],\n",
       "       [7.2, 3.2, 6. , 1.8],\n",
       "       [4.9, 3.1, 1.5, 0.1],\n",
       "       [5.8, 2.8, 5.1, 2.4],\n",
       "       [6.7, 3. , 5.2, 2.3],\n",
       "       [7.7, 3. , 6.1, 2.3],\n",
       "       [6.7, 3.1, 5.6, 2.4],\n",
       "       [4.9, 3. , 1.4, 0.2],\n",
       "       [6.5, 3. , 5.2, 2. ],\n",
       "       [7.6, 3. , 6.6, 2.1],\n",
       "       [6.2, 2.9, 4.3, 1.3],\n",
       "       [4.9, 2.4, 3.3, 1. ],\n",
       "       [5.6, 2.9, 3.6, 1.3],\n",
       "       [5.6, 3. , 4.5, 1.5],\n",
       "       [6.9, 3.1, 4.9, 1.5],\n",
       "       [6.6, 2.9, 4.6, 1.3],\n",
       "       [5.1, 3.5, 1.4, 0.3],\n",
       "       [5.1, 3.4, 1.5, 0.2],\n",
       "       [7.4, 2.8, 6.1, 1.9],\n",
       "       [5.7, 2.5, 5. , 2. ],\n",
       "       [6.5, 3.2, 5.1, 2. ],\n",
       "       [5.1, 3.7, 1.5, 0.4],\n",
       "       [5.5, 4.2, 1.4, 0.2],\n",
       "       [5.1, 3.5, 1.4, 0.2],\n",
       "       [6.3, 2.5, 5. , 1.9],\n",
       "       [6. , 2.2, 4. , 1. ],\n",
       "       [6.1, 2.6, 5.6, 1.4],\n",
       "       [6.7, 3.3, 5.7, 2.5],\n",
       "       [5.7, 2.8, 4.5, 1.3],\n",
       "       [5. , 3.6, 1.4, 0.2],\n",
       "       [6.4, 2.7, 5.3, 1.9],\n",
       "       [5.4, 3.7, 1.5, 0.2],\n",
       "       [7.9, 3.8, 6.4, 2. ],\n",
       "       [5.7, 4.4, 1.5, 0.4],\n",
       "       [6. , 2.9, 4.5, 1.5],\n",
       "       [5.6, 3. , 4.1, 1.3],\n",
       "       [5.4, 3.9, 1.7, 0.4],\n",
       "       [5.8, 2.7, 4.1, 1. ],\n",
       "       [5. , 3.4, 1.5, 0.2],\n",
       "       [6.2, 3.4, 5.4, 2.3],\n",
       "       [6.4, 2.8, 5.6, 2.2],\n",
       "       [6. , 3. , 4.8, 1.8],\n",
       "       [6. , 3.4, 4.5, 1.6],\n",
       "       [5.7, 3.8, 1.7, 0.3],\n",
       "       [5. , 3.3, 1.4, 0.2],\n",
       "       [5.9, 3. , 5.1, 1.8],\n",
       "       [6. , 2.7, 5.1, 1.6],\n",
       "       [5.5, 2.6, 4.4, 1.2],\n",
       "       [5.1, 3.8, 1.9, 0.4],\n",
       "       [6.7, 3.1, 4.7, 1.5],\n",
       "       [6.5, 3. , 5.8, 2.2],\n",
       "       [5.9, 3.2, 4.8, 1.8],\n",
       "       [6.3, 3.3, 4.7, 1.6],\n",
       "       [6.3, 2.5, 4.9, 1.5],\n",
       "       [4.5, 2.3, 1.3, 0.3],\n",
       "       [5.4, 3.9, 1.3, 0.4],\n",
       "       [4.8, 3. , 1.4, 0.3],\n",
       "       [5.4, 3. , 4.5, 1.5],\n",
       "       [5.5, 2.5, 4. , 1.3],\n",
       "       [5.4, 3.4, 1.5, 0.4],\n",
       "       [5.8, 2.7, 5.1, 1.9],\n",
       "       [5.7, 3. , 4.2, 1.2],\n",
       "       [6.4, 3.1, 5.5, 1.8],\n",
       "       [5.8, 2.7, 5.1, 1.9],\n",
       "       [5.7, 2.9, 4.2, 1.3],\n",
       "       [4.3, 3. , 1.1, 0.1],\n",
       "       [6.3, 2.3, 4.4, 1.3],\n",
       "       [6. , 2.2, 5. , 1.5],\n",
       "       [5.2, 3.4, 1.4, 0.2],\n",
       "       [5.1, 3.8, 1.6, 0.2],\n",
       "       [6.9, 3.1, 5.4, 2.1],\n",
       "       [4.9, 2.5, 4.5, 1.7],\n",
       "       [5. , 2. , 3.5, 1. ],\n",
       "       [6.1, 2.8, 4. , 1.3],\n",
       "       [5.6, 2.8, 4.9, 2. ],\n",
       "       [5.8, 4. , 1.2, 0.2],\n",
       "       [5.5, 2.4, 3.7, 1. ],\n",
       "       [7.3, 2.9, 6.3, 1.8],\n",
       "       [6.4, 3.2, 5.3, 2.3],\n",
       "       [7.2, 3. , 5.8, 1.6],\n",
       "       [6.7, 3.1, 4.4, 1.4],\n",
       "       [4.8, 3. , 1.4, 0.1],\n",
       "       [5.1, 3.8, 1.5, 0.3],\n",
       "       [4.7, 3.2, 1.3, 0.2],\n",
       "       [4.6, 3.1, 1.5, 0.2],\n",
       "       [6.3, 3.4, 5.6, 2.4],\n",
       "       [6.6, 3. , 4.4, 1.4],\n",
       "       [6.4, 2.8, 5.6, 2.1],\n",
       "       [4.9, 3.1, 1.5, 0.1],\n",
       "       [4.9, 3.1, 1.5, 0.1],\n",
       "       [6.8, 2.8, 4.8, 1.4],\n",
       "       [7. , 3.2, 4.7, 1.4],\n",
       "       [6.1, 3. , 4.9, 1.8],\n",
       "       [5.5, 2.4, 3.8, 1.1],\n",
       "       [5.6, 2.5, 3.9, 1.1],\n",
       "       [6.8, 3. , 5.5, 2.1],\n",
       "       [6.9, 3.2, 5.7, 2.3],\n",
       "       [7.7, 2.6, 6.9, 2.3],\n",
       "       [5. , 3.4, 1.6, 0.4],\n",
       "       [6.7, 3.3, 5.7, 2.1],\n",
       "       [4.8, 3.1, 1.6, 0.2],\n",
       "       [5.1, 3.3, 1.7, 0.5],\n",
       "       [6.8, 3.2, 5.9, 2.3],\n",
       "       [6.5, 3. , 5.5, 1.8],\n",
       "       [5.5, 2.3, 4. , 1.3],\n",
       "       [4.4, 3. , 1.3, 0.2],\n",
       "       [4.6, 3.2, 1.4, 0.2]], dtype=float32)"
      ]
     },
     "execution_count": 17,
     "metadata": {},
     "output_type": "execute_result"
    }
   ],
   "source": [
    "X_values"
   ]
  },
  {
   "cell_type": "code",
   "execution_count": 18,
   "metadata": {},
   "outputs": [
    {
     "data": {
      "text/plain": [
       "array([[0., 1., 0.],\n",
       "       [0., 1., 0.],\n",
       "       [0., 0., 1.],\n",
       "       [1., 0., 0.],\n",
       "       [0., 1., 0.],\n",
       "       [1., 0., 0.],\n",
       "       [1., 0., 0.],\n",
       "       [1., 0., 0.],\n",
       "       [0., 1., 0.],\n",
       "       [0., 0., 1.],\n",
       "       [0., 1., 0.],\n",
       "       [1., 0., 0.],\n",
       "       [0., 0., 1.],\n",
       "       [0., 1., 0.],\n",
       "       [1., 0., 0.],\n",
       "       [0., 1., 0.],\n",
       "       [0., 0., 1.],\n",
       "       [1., 0., 0.],\n",
       "       [0., 0., 1.],\n",
       "       [0., 1., 0.],\n",
       "       [0., 1., 0.],\n",
       "       [0., 1., 0.],\n",
       "       [0., 1., 0.],\n",
       "       [0., 1., 0.],\n",
       "       [0., 0., 1.],\n",
       "       [1., 0., 0.],\n",
       "       [0., 0., 1.],\n",
       "       [0., 1., 0.],\n",
       "       [0., 0., 1.],\n",
       "       [1., 0., 0.],\n",
       "       [0., 1., 0.],\n",
       "       [0., 0., 1.],\n",
       "       [1., 0., 0.],\n",
       "       [0., 0., 1.],\n",
       "       [0., 1., 0.],\n",
       "       [1., 0., 0.],\n",
       "       [1., 0., 0.],\n",
       "       [1., 0., 0.],\n",
       "       [1., 0., 0.],\n",
       "       [0., 1., 0.],\n",
       "       [1., 0., 0.],\n",
       "       [0., 1., 0.],\n",
       "       [1., 0., 0.],\n",
       "       [0., 0., 1.],\n",
       "       [0., 0., 1.],\n",
       "       [1., 0., 0.],\n",
       "       [0., 0., 1.],\n",
       "       [0., 0., 1.],\n",
       "       [0., 0., 1.],\n",
       "       [0., 0., 1.],\n",
       "       [1., 0., 0.],\n",
       "       [0., 0., 1.],\n",
       "       [0., 0., 1.],\n",
       "       [0., 1., 0.],\n",
       "       [0., 1., 0.],\n",
       "       [0., 1., 0.],\n",
       "       [0., 1., 0.],\n",
       "       [0., 1., 0.],\n",
       "       [0., 1., 0.],\n",
       "       [1., 0., 0.],\n",
       "       [1., 0., 0.],\n",
       "       [0., 0., 1.],\n",
       "       [0., 0., 1.],\n",
       "       [0., 0., 1.],\n",
       "       [1., 0., 0.],\n",
       "       [1., 0., 0.],\n",
       "       [1., 0., 0.],\n",
       "       [0., 0., 1.],\n",
       "       [0., 1., 0.],\n",
       "       [0., 0., 1.],\n",
       "       [0., 0., 1.],\n",
       "       [0., 1., 0.],\n",
       "       [1., 0., 0.],\n",
       "       [0., 0., 1.],\n",
       "       [1., 0., 0.],\n",
       "       [0., 0., 1.],\n",
       "       [1., 0., 0.],\n",
       "       [0., 1., 0.],\n",
       "       [0., 1., 0.],\n",
       "       [1., 0., 0.],\n",
       "       [0., 1., 0.],\n",
       "       [1., 0., 0.],\n",
       "       [0., 0., 1.],\n",
       "       [0., 0., 1.],\n",
       "       [0., 0., 1.],\n",
       "       [0., 1., 0.],\n",
       "       [1., 0., 0.],\n",
       "       [1., 0., 0.],\n",
       "       [0., 0., 1.],\n",
       "       [0., 1., 0.],\n",
       "       [0., 1., 0.],\n",
       "       [1., 0., 0.],\n",
       "       [0., 1., 0.],\n",
       "       [0., 0., 1.],\n",
       "       [0., 1., 0.],\n",
       "       [0., 1., 0.],\n",
       "       [0., 1., 0.],\n",
       "       [1., 0., 0.],\n",
       "       [1., 0., 0.],\n",
       "       [1., 0., 0.],\n",
       "       [0., 1., 0.],\n",
       "       [0., 1., 0.],\n",
       "       [1., 0., 0.],\n",
       "       [0., 0., 1.],\n",
       "       [0., 1., 0.],\n",
       "       [0., 0., 1.],\n",
       "       [0., 0., 1.],\n",
       "       [0., 1., 0.],\n",
       "       [1., 0., 0.],\n",
       "       [0., 1., 0.],\n",
       "       [0., 0., 1.],\n",
       "       [1., 0., 0.],\n",
       "       [1., 0., 0.],\n",
       "       [0., 0., 1.],\n",
       "       [0., 0., 1.],\n",
       "       [0., 1., 0.],\n",
       "       [0., 1., 0.],\n",
       "       [0., 0., 1.],\n",
       "       [1., 0., 0.],\n",
       "       [0., 1., 0.],\n",
       "       [0., 0., 1.],\n",
       "       [0., 0., 1.],\n",
       "       [0., 0., 1.],\n",
       "       [0., 1., 0.],\n",
       "       [1., 0., 0.],\n",
       "       [1., 0., 0.],\n",
       "       [1., 0., 0.],\n",
       "       [1., 0., 0.],\n",
       "       [0., 0., 1.],\n",
       "       [0., 1., 0.],\n",
       "       [0., 0., 1.],\n",
       "       [1., 0., 0.],\n",
       "       [1., 0., 0.],\n",
       "       [0., 1., 0.],\n",
       "       [0., 1., 0.],\n",
       "       [0., 0., 1.],\n",
       "       [0., 1., 0.],\n",
       "       [0., 1., 0.],\n",
       "       [0., 0., 1.],\n",
       "       [0., 0., 1.],\n",
       "       [0., 0., 1.],\n",
       "       [1., 0., 0.],\n",
       "       [0., 0., 1.],\n",
       "       [1., 0., 0.],\n",
       "       [1., 0., 0.],\n",
       "       [0., 0., 1.],\n",
       "       [0., 0., 1.],\n",
       "       [0., 1., 0.],\n",
       "       [1., 0., 0.],\n",
       "       [1., 0., 0.]], dtype=float32)"
      ]
     },
     "execution_count": 18,
     "metadata": {},
     "output_type": "execute_result"
    }
   ],
   "source": [
    "y_values"
   ]
  },
  {
   "cell_type": "code",
   "execution_count": 19,
   "metadata": {},
   "outputs": [],
   "source": [
    "test_size = 10"
   ]
  },
  {
   "cell_type": "code",
   "execution_count": 20,
   "metadata": {},
   "outputs": [],
   "source": [
    "X_test = X_values[-test_size:]\n",
    "X_train = X_values[:-test_size]\n",
    "y_test = y_values[-test_size:]\n",
    "y_train = y_values[:-test_size]"
   ]
  },
  {
   "cell_type": "code",
   "execution_count": 21,
   "metadata": {},
   "outputs": [
    {
     "data": {
      "text/plain": [
       "array([[7.7, 2.6, 6.9, 2.3],\n",
       "       [5. , 3.4, 1.6, 0.4],\n",
       "       [6.7, 3.3, 5.7, 2.1],\n",
       "       [4.8, 3.1, 1.6, 0.2],\n",
       "       [5.1, 3.3, 1.7, 0.5],\n",
       "       [6.8, 3.2, 5.9, 2.3],\n",
       "       [6.5, 3. , 5.5, 1.8],\n",
       "       [5.5, 2.3, 4. , 1.3],\n",
       "       [4.4, 3. , 1.3, 0.2],\n",
       "       [4.6, 3.2, 1.4, 0.2]], dtype=float32)"
      ]
     },
     "execution_count": 21,
     "metadata": {},
     "output_type": "execute_result"
    }
   ],
   "source": [
    "X_test"
   ]
  },
  {
   "cell_type": "code",
   "execution_count": 23,
   "metadata": {},
   "outputs": [
    {
     "data": {
      "text/plain": [
       "array([[0., 0., 1.],\n",
       "       [1., 0., 0.],\n",
       "       [0., 0., 1.],\n",
       "       [1., 0., 0.],\n",
       "       [1., 0., 0.],\n",
       "       [0., 0., 1.],\n",
       "       [0., 0., 1.],\n",
       "       [0., 1., 0.],\n",
       "       [1., 0., 0.],\n",
       "       [1., 0., 0.]], dtype=float32)"
      ]
     },
     "execution_count": 23,
     "metadata": {},
     "output_type": "execute_result"
    }
   ],
   "source": [
    "y_test"
   ]
  },
  {
   "cell_type": "code",
   "execution_count": 24,
   "metadata": {},
   "outputs": [],
   "source": [
    "sess = tf.Session()\n",
    "interval = 100\n",
    "epoch = 850"
   ]
  },
  {
   "cell_type": "code",
   "execution_count": 25,
   "metadata": {},
   "outputs": [],
   "source": [
    "X_data = tf.placeholder(shape=[None, 4], dtype=tf.float32)\n",
    "y_target = tf.placeholder(shape=[None, 3], dtype=tf.float32)"
   ]
  },
  {
   "cell_type": "code",
   "execution_count": 27,
   "metadata": {},
   "outputs": [],
   "source": [
    "hidden_layer_nodes = 8\n",
    "w1 = tf.Variable(tf.random_normal(shape=[4,hidden_layer_nodes])) \n",
    "b1 = tf.Variable(tf.random_normal(shape=[hidden_layer_nodes]))   \n",
    "w2 = tf.Variable(tf.random_normal(shape=[hidden_layer_nodes,3])) \n",
    "b2 = tf.Variable(tf.random_normal(shape=[3]))"
   ]
  },
  {
   "cell_type": "code",
   "execution_count": 29,
   "metadata": {},
   "outputs": [],
   "source": [
    "#Functions\n",
    "hidden_output = tf.nn.relu(tf.add(tf.matmul(X_data, w1), b1))\n",
    "final_output = tf.nn.softmax(tf.add(tf.matmul(hidden_output, w2), b2))\n",
    "loss = tf.reduce_mean(-tf.reduce_sum(y_target * tf.log(final_output), axis=0))"
   ]
  },
  {
   "cell_type": "code",
   "execution_count": 31,
   "metadata": {},
   "outputs": [],
   "source": [
    "# Minimizing loss\n",
    "optimizer = tf.train.GradientDescentOptimizer(learning_rate=0.001).minimize(loss)"
   ]
  },
  {
   "cell_type": "code",
   "execution_count": 32,
   "metadata": {},
   "outputs": [
    {
     "name": "stdout",
     "output_type": "stream",
     "text": [
      "Training the model...\n",
      "Epoch 100 | Loss: 13.553829\n",
      "Epoch 200 | Loss: 7.478199\n",
      "Epoch 300 | Loss: 5.577091\n",
      "Epoch 400 | Loss: 4.6667247\n",
      "Epoch 500 | Loss: 4.0857043\n",
      "Epoch 600 | Loss: 3.7464879\n",
      "Epoch 700 | Loss: 3.5182965\n",
      "Epoch 800 | Loss: 3.3516538\n",
      "\n",
      "Actual: [0. 0. 1.] Predicted: [[0. 0. 1.]]\n",
      "Actual: [1. 0. 0.] Predicted: [[1. 0. 0.]]\n",
      "Actual: [0. 0. 1.] Predicted: [[0. 0. 1.]]\n",
      "Actual: [1. 0. 0.] Predicted: [[1. 0. 0.]]\n",
      "Actual: [1. 0. 0.] Predicted: [[1. 0. 0.]]\n",
      "Actual: [0. 0. 1.] Predicted: [[0. 0. 1.]]\n",
      "Actual: [0. 0. 1.] Predicted: [[0. 0. 1.]]\n",
      "Actual: [0. 1. 0.] Predicted: [[0. 1. 0.]]\n",
      "Actual: [1. 0. 0.] Predicted: [[1. 0. 0.]]\n",
      "Actual: [1. 0. 0.] Predicted: [[1. 0. 0.]]\n"
     ]
    }
   ],
   "source": [
    "init = tf.global_variables_initializer()\n",
    "sess.run(init)\n",
    "\n",
    "\n",
    "print('Training the model...')\n",
    "for i in range(1, (epoch + 1)):\n",
    "    sess.run(optimizer, feed_dict={X_data: X_train, y_target: y_train})\n",
    "    if i % interval == 0:\n",
    "        print('Epoch', i, '|', 'Loss:', sess.run(loss, feed_dict={X_data: X_train, y_target: y_train}))\n",
    "\n",
    "# THE TEST\n",
    "print()\n",
    "for i in range(len(X_test)):\n",
    "    print('Actual:', y_test[i], 'Predicted:', np.rint(sess.run(final_output, feed_dict={X_data: [X_test[i]]})))"
   ]
  },
  {
   "cell_type": "code",
   "execution_count": 33,
   "metadata": {},
   "outputs": [
    {
     "name": "stdout",
     "output_type": "stream",
     "text": [
      "Training the model...\n",
      "Epoch 100 | Loss: 3.170903\n",
      "Epoch 200 | Loss: 3.0797842\n",
      "Epoch 300 | Loss: 3.0047257\n",
      "Epoch 400 | Loss: 2.9413166\n",
      "Epoch 500 | Loss: 2.8868277\n",
      "Epoch 600 | Loss: 2.8393447\n",
      "Epoch 700 | Loss: 2.7974303\n",
      "Epoch 800 | Loss: 2.7599366\n",
      "\n",
      "Actual: [0. 0. 1.] Predicted: [[0. 0. 1.]]\n",
      "Actual: [1. 0. 0.] Predicted: [[1. 0. 0.]]\n",
      "Actual: [0. 0. 1.] Predicted: [[0. 0. 1.]]\n",
      "Actual: [1. 0. 0.] Predicted: [[1. 0. 0.]]\n",
      "Actual: [1. 0. 0.] Predicted: [[1. 0. 0.]]\n",
      "Actual: [0. 0. 1.] Predicted: [[0. 0. 1.]]\n",
      "Actual: [0. 0. 1.] Predicted: [[0. 0. 1.]]\n",
      "Actual: [0. 1. 0.] Predicted: [[0. 1. 0.]]\n",
      "Actual: [1. 0. 0.] Predicted: [[1. 0. 0.]]\n",
      "Actual: [1. 0. 0.] Predicted: [[1. 0. 0.]]\n"
     ]
    }
   ],
   "source": [
    "print('Training the model...')\n",
    "for i in range(1, (epoch + 1)):\n",
    "    sess.run(optimizer, feed_dict={X_data: X_train, y_target: y_train})\n",
    "    if i % interval == 0:\n",
    "        print('Epoch', i, '|', 'Loss:', sess.run(loss, feed_dict={X_data: X_train, y_target: y_train}))\n",
    "\n",
    "# THE TEST\n",
    "print()\n",
    "for i in range(len(X_test)):\n",
    "    print('Actual:', y_test[i], 'Predicted:', np.rint(sess.run(final_output, feed_dict={X_data: [X_test[i]]})))"
   ]
  },
  {
   "cell_type": "code",
   "execution_count": 34,
   "metadata": {},
   "outputs": [
    {
     "name": "stdout",
     "output_type": "stream",
     "text": [
      "Training the model...\n",
      "Epoch 100 | Loss: 8.625345\n",
      "Epoch 200 | Loss: 6.1616936\n",
      "Epoch 300 | Loss: 5.155749\n",
      "Epoch 400 | Loss: 4.5994306\n",
      "Epoch 500 | Loss: 4.2433395\n",
      "Epoch 600 | Loss: 3.9949977\n",
      "Epoch 700 | Loss: 3.810321\n",
      "Epoch 800 | Loss: 3.666869\n",
      "\n",
      "Actual: [0. 0. 1.] Predicted: [[0. 0. 1.]]\n",
      "Actual: [1. 0. 0.] Predicted: [[1. 0. 0.]]\n",
      "Actual: [0. 0. 1.] Predicted: [[0. 0. 1.]]\n",
      "Actual: [1. 0. 0.] Predicted: [[1. 0. 0.]]\n",
      "Actual: [1. 0. 0.] Predicted: [[1. 0. 0.]]\n",
      "Actual: [0. 0. 1.] Predicted: [[0. 0. 1.]]\n",
      "Actual: [0. 0. 1.] Predicted: [[0. 0. 1.]]\n",
      "Actual: [0. 1. 0.] Predicted: [[0. 1. 0.]]\n",
      "Actual: [1. 0. 0.] Predicted: [[1. 0. 0.]]\n",
      "Actual: [1. 0. 0.] Predicted: [[1. 0. 0.]]\n"
     ]
    }
   ],
   "source": [
    "init = tf.global_variables_initializer()\n",
    "sess.run(init)\n",
    "\n",
    "\n",
    "print('Training the model...')\n",
    "for i in range(1, (epoch + 1)):\n",
    "    sess.run(optimizer, feed_dict={X_data: X_train, y_target: y_train})\n",
    "    if i % interval == 0:\n",
    "        print('Epoch', i, '|', 'Loss:', sess.run(loss, feed_dict={X_data: X_train, y_target: y_train}))\n",
    "\n",
    "# THE TEST\n",
    "print()\n",
    "for i in range(len(X_test)):\n",
    "    print('Actual:', y_test[i], 'Predicted:', np.rint(sess.run(final_output, feed_dict={X_data: [X_test[i]]})))"
   ]
  },
  {
   "cell_type": "code",
   "execution_count": 35,
   "metadata": {},
   "outputs": [
    {
     "name": "stdout",
     "output_type": "stream",
     "text": [
      "Training the model...\n",
      "Epoch 100 | Loss: 6.866379\n",
      "Epoch 200 | Loss: 5.0728807\n",
      "Epoch 300 | Loss: 4.484039\n",
      "Epoch 400 | Loss: 4.179488\n",
      "Epoch 500 | Loss: 3.9899273\n",
      "Epoch 600 | Loss: 3.8587468\n",
      "Epoch 700 | Loss: 3.7613432\n",
      "Epoch 800 | Loss: 3.6852458\n",
      "\n",
      "Actual: [0. 0. 1.] Predicted: [[0. 0. 1.]]\n",
      "Actual: [1. 0. 0.] Predicted: [[1. 0. 0.]]\n",
      "Actual: [0. 0. 1.] Predicted: [[0. 0. 1.]]\n",
      "Actual: [1. 0. 0.] Predicted: [[1. 0. 0.]]\n",
      "Actual: [1. 0. 0.] Predicted: [[1. 0. 0.]]\n",
      "Actual: [0. 0. 1.] Predicted: [[0. 0. 1.]]\n",
      "Actual: [0. 0. 1.] Predicted: [[0. 0. 1.]]\n",
      "Actual: [0. 1. 0.] Predicted: [[0. 1. 0.]]\n",
      "Actual: [1. 0. 0.] Predicted: [[1. 0. 0.]]\n",
      "Actual: [1. 0. 0.] Predicted: [[1. 0. 0.]]\n"
     ]
    }
   ],
   "source": [
    "init = tf.global_variables_initializer()\n",
    "sess.run(init)\n",
    "\n",
    "\n",
    "print('Training the model...')\n",
    "for i in range(1, (epoch + 1)):\n",
    "    sess.run(optimizer, feed_dict={X_data: X_train, y_target: y_train})\n",
    "    if i % interval == 0:\n",
    "        print('Epoch', i, '|', 'Loss:', sess.run(loss, feed_dict={X_data: X_train, y_target: y_train}))\n",
    "\n",
    "# THE TEST\n",
    "print()\n",
    "for i in range(len(X_test)):\n",
    "    print('Actual:', y_test[i], 'Predicted:', np.rint(sess.run(final_output, feed_dict={X_data: [X_test[i]]})))"
   ]
  },
  {
   "cell_type": "code",
   "execution_count": null,
   "metadata": {},
   "outputs": [],
   "source": []
  }
 ],
 "metadata": {
  "kernelspec": {
   "display_name": "Python 3",
   "language": "python",
   "name": "python3"
  },
  "language_info": {
   "codemirror_mode": {
    "name": "ipython",
    "version": 3
   },
   "file_extension": ".py",
   "mimetype": "text/x-python",
   "name": "python",
   "nbconvert_exporter": "python",
   "pygments_lexer": "ipython3",
   "version": "3.6.7"
  }
 },
 "nbformat": 4,
 "nbformat_minor": 2
}
